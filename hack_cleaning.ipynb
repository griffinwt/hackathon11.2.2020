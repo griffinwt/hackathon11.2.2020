{
 "cells": [
  {
   "cell_type": "code",
   "execution_count": 114,
   "metadata": {},
   "outputs": [],
   "source": [
    "#common code:\n",
    "from scipy.stats import ttest_ind\n",
    "import pandas as pd\n",
    "import numpy as np\n",
    "from scipy import stats\n",
    "import seaborn as sns\n",
    "import matplotlib.pyplot as plt\n",
    "import re\n",
    "#week 3\n",
    "from sklearn.linear_model import LinearRegression\n",
    "from sklearn import metrics\n",
    "import statsmodels.api as sm\n",
    "from sklearn.model_selection import train_test_split, cross_val_score\n",
    "from sklearn.preprocessing import StandardScaler, PolynomialFeatures\n",
    "#week 4\n",
    "from sklearn.linear_model import Ridge\n",
    "from sklearn.linear_model import RidgeCV\n",
    "from sklearn.linear_model import Lasso, LassoCV\n",
    "from sklearn.linear_model import LogisticRegression\n",
    "from sklearn.model_selection import train_test_split, GridSearchCV\n",
    "from sklearn.preprocessing import StandardScaler\n",
    "from sklearn.neighbors import KNeighborsClassifier, KNeighborsRegressor\n",
    "from sklearn.pipeline import Pipeline\n",
    "from sklearn.metrics import confusion_matrix, plot_confusion_matrix\n",
    "#week 5\n",
    "import requests\n",
    "from bs4 import BeautifulSoup\n",
    "import time\n",
    "from sklearn.feature_extraction.text import CountVectorizer, TfidfVectorizer\n",
    "from sklearn.naive_bayes import MultinomialNB\n",
    "#week 6\n",
    "from sklearn.tree import DecisionTreeClassifier\n",
    "from sklearn.ensemble import RandomForestClassifier, ExtraTreesClassifier, RandomForestRegressor\n",
    "from sklearn.svm import LinearSVC, SVC, LinearSVR\n",
    "from sklearn.ensemble import BaggingClassifier, BaggingRegressor\n",
    "from sklearn.tree import DecisionTreeClassifier\n",
    "from sklearn.model_selection import cross_val_score, train_test_split, GridSearchCV\n",
    "from sklearn.datasets import make_classification\n",
    "from sklearn.ensemble import BaggingClassifier\n",
    "from sklearn.ensemble import AdaBoostClassifier, GradientBoostingClassifier, VotingClassifier\n"
   ]
  },
  {
   "cell_type": "code",
   "execution_count": 115,
   "metadata": {},
   "outputs": [],
   "source": [
    "train = pd.read_csv('./data/train.csv.gz')"
   ]
  },
  {
   "cell_type": "code",
   "execution_count": 116,
   "metadata": {},
   "outputs": [
    {
     "data": {
      "text/html": [
       "<div>\n",
       "<style scoped>\n",
       "    .dataframe tbody tr th:only-of-type {\n",
       "        vertical-align: middle;\n",
       "    }\n",
       "\n",
       "    .dataframe tbody tr th {\n",
       "        vertical-align: top;\n",
       "    }\n",
       "\n",
       "    .dataframe thead th {\n",
       "        text-align: right;\n",
       "    }\n",
       "</style>\n",
       "<table border=\"1\" class=\"dataframe\">\n",
       "  <thead>\n",
       "    <tr style=\"text-align: right;\">\n",
       "      <th></th>\n",
       "      <th>AnimalID</th>\n",
       "      <th>Name</th>\n",
       "      <th>DateTime</th>\n",
       "      <th>OutcomeType</th>\n",
       "      <th>OutcomeSubtype</th>\n",
       "      <th>AnimalType</th>\n",
       "      <th>SexuponOutcome</th>\n",
       "      <th>AgeuponOutcome</th>\n",
       "      <th>Breed</th>\n",
       "      <th>Color</th>\n",
       "    </tr>\n",
       "  </thead>\n",
       "  <tbody>\n",
       "    <tr>\n",
       "      <th>0</th>\n",
       "      <td>A671945</td>\n",
       "      <td>Hambone</td>\n",
       "      <td>2014-02-12 18:22:00</td>\n",
       "      <td>Return_to_owner</td>\n",
       "      <td>NaN</td>\n",
       "      <td>Dog</td>\n",
       "      <td>Neutered Male</td>\n",
       "      <td>1 year</td>\n",
       "      <td>Shetland Sheepdog Mix</td>\n",
       "      <td>Brown/White</td>\n",
       "    </tr>\n",
       "    <tr>\n",
       "      <th>1</th>\n",
       "      <td>A656520</td>\n",
       "      <td>Emily</td>\n",
       "      <td>2013-10-13 12:44:00</td>\n",
       "      <td>Euthanasia</td>\n",
       "      <td>Suffering</td>\n",
       "      <td>Cat</td>\n",
       "      <td>Spayed Female</td>\n",
       "      <td>1 year</td>\n",
       "      <td>Domestic Shorthair Mix</td>\n",
       "      <td>Cream Tabby</td>\n",
       "    </tr>\n",
       "    <tr>\n",
       "      <th>2</th>\n",
       "      <td>A686464</td>\n",
       "      <td>Pearce</td>\n",
       "      <td>2015-01-31 12:28:00</td>\n",
       "      <td>Adoption</td>\n",
       "      <td>Foster</td>\n",
       "      <td>Dog</td>\n",
       "      <td>Neutered Male</td>\n",
       "      <td>2 years</td>\n",
       "      <td>Pit Bull Mix</td>\n",
       "      <td>Blue/White</td>\n",
       "    </tr>\n",
       "    <tr>\n",
       "      <th>3</th>\n",
       "      <td>A683430</td>\n",
       "      <td>NaN</td>\n",
       "      <td>2014-07-11 19:09:00</td>\n",
       "      <td>Transfer</td>\n",
       "      <td>Partner</td>\n",
       "      <td>Cat</td>\n",
       "      <td>Intact Male</td>\n",
       "      <td>3 weeks</td>\n",
       "      <td>Domestic Shorthair Mix</td>\n",
       "      <td>Blue Cream</td>\n",
       "    </tr>\n",
       "    <tr>\n",
       "      <th>4</th>\n",
       "      <td>A667013</td>\n",
       "      <td>NaN</td>\n",
       "      <td>2013-11-15 12:52:00</td>\n",
       "      <td>Transfer</td>\n",
       "      <td>Partner</td>\n",
       "      <td>Dog</td>\n",
       "      <td>Neutered Male</td>\n",
       "      <td>2 years</td>\n",
       "      <td>Lhasa Apso/Miniature Poodle</td>\n",
       "      <td>Tan</td>\n",
       "    </tr>\n",
       "  </tbody>\n",
       "</table>\n",
       "</div>"
      ],
      "text/plain": [
       "  AnimalID     Name             DateTime      OutcomeType OutcomeSubtype  \\\n",
       "0  A671945  Hambone  2014-02-12 18:22:00  Return_to_owner            NaN   \n",
       "1  A656520    Emily  2013-10-13 12:44:00       Euthanasia      Suffering   \n",
       "2  A686464   Pearce  2015-01-31 12:28:00         Adoption         Foster   \n",
       "3  A683430      NaN  2014-07-11 19:09:00         Transfer        Partner   \n",
       "4  A667013      NaN  2013-11-15 12:52:00         Transfer        Partner   \n",
       "\n",
       "  AnimalType SexuponOutcome AgeuponOutcome                        Breed  \\\n",
       "0        Dog  Neutered Male         1 year        Shetland Sheepdog Mix   \n",
       "1        Cat  Spayed Female         1 year       Domestic Shorthair Mix   \n",
       "2        Dog  Neutered Male        2 years                 Pit Bull Mix   \n",
       "3        Cat    Intact Male        3 weeks       Domestic Shorthair Mix   \n",
       "4        Dog  Neutered Male        2 years  Lhasa Apso/Miniature Poodle   \n",
       "\n",
       "         Color  \n",
       "0  Brown/White  \n",
       "1  Cream Tabby  \n",
       "2   Blue/White  \n",
       "3   Blue Cream  \n",
       "4          Tan  "
      ]
     },
     "execution_count": 116,
     "metadata": {},
     "output_type": "execute_result"
    }
   ],
   "source": [
    "train.head()"
   ]
  },
  {
   "cell_type": "code",
   "execution_count": 117,
   "metadata": {},
   "outputs": [
    {
     "data": {
      "text/plain": [
       "AnimalID              0\n",
       "Name               7691\n",
       "DateTime              0\n",
       "OutcomeType           0\n",
       "OutcomeSubtype    13612\n",
       "AnimalType            0\n",
       "SexuponOutcome        1\n",
       "AgeuponOutcome       18\n",
       "Breed                 0\n",
       "Color                 0\n",
       "dtype: int64"
      ]
     },
     "execution_count": 117,
     "metadata": {},
     "output_type": "execute_result"
    }
   ],
   "source": [
    "train.isnull().sum() #check for null values"
   ]
  },
  {
   "cell_type": "code",
   "execution_count": 118,
   "metadata": {},
   "outputs": [
    {
     "data": {
      "text/plain": [
       "(26729, 10)"
      ]
     },
     "execution_count": 118,
     "metadata": {},
     "output_type": "execute_result"
    }
   ],
   "source": [
    "train.shape #check data size"
   ]
  },
  {
   "cell_type": "markdown",
   "metadata": {},
   "source": [
    "Of the null values, there are too many in the 'Name' and 'OutcomeSubtype' column to drop so I'll need to do something with those. The SexuponOutcome and AgeuponOutcome nulls are only 19 rows in total out of my 26k+ so I'll be dropping them."
   ]
  },
  {
   "cell_type": "code",
   "execution_count": 119,
   "metadata": {},
   "outputs": [],
   "source": [
    "train.columns = [col.lower().replace(' ', '_') for col in train.columns] #format columns"
   ]
  },
  {
   "cell_type": "code",
   "execution_count": 120,
   "metadata": {},
   "outputs": [
    {
     "data": {
      "text/plain": [
       "Index(['animalid', 'name', 'datetime', 'outcometype', 'outcomesubtype',\n",
       "       'animaltype', 'sexuponoutcome', 'ageuponoutcome', 'breed', 'color'],\n",
       "      dtype='object')"
      ]
     },
     "execution_count": 120,
     "metadata": {},
     "output_type": "execute_result"
    }
   ],
   "source": [
    "train.columns"
   ]
  },
  {
   "cell_type": "code",
   "execution_count": 121,
   "metadata": {},
   "outputs": [],
   "source": [
    "train.dropna(axis=0, subset=['ageuponoutcome', 'sexuponoutcome'], inplace=True)"
   ]
  },
  {
   "cell_type": "code",
   "execution_count": 122,
   "metadata": {},
   "outputs": [
    {
     "data": {
      "text/plain": [
       "animalid              0\n",
       "name               7673\n",
       "datetime              0\n",
       "outcometype           0\n",
       "outcomesubtype    13611\n",
       "animaltype            0\n",
       "sexuponoutcome        0\n",
       "ageuponoutcome        0\n",
       "breed                 0\n",
       "color                 0\n",
       "dtype: int64"
      ]
     },
     "execution_count": 122,
     "metadata": {},
     "output_type": "execute_result"
    }
   ],
   "source": [
    "train.isnull().sum()"
   ]
  },
  {
   "cell_type": "code",
   "execution_count": 123,
   "metadata": {},
   "outputs": [
    {
     "data": {
      "text/plain": [
       "(26710, 10)"
      ]
     },
     "execution_count": 123,
     "metadata": {},
     "output_type": "execute_result"
    }
   ],
   "source": [
    "train.shape #dropped the 19 null values from ageuponoutcome and sexuponoutcome"
   ]
  },
  {
   "cell_type": "code",
   "execution_count": 124,
   "metadata": {},
   "outputs": [
    {
     "name": "stdout",
     "output_type": "stream",
     "text": [
      "|         |   name |\n",
      "|:--------|-------:|\n",
      "| Max     |    136 |\n",
      "| Bella   |    135 |\n",
      "| Charlie |    107 |\n",
      "| Daisy   |    106 |\n",
      "| Lucy    |     94 |\n"
     ]
    }
   ],
   "source": [
    "print(train['name'].value_counts().head().to_markdown())"
   ]
  },
  {
   "cell_type": "markdown",
   "metadata": {},
   "source": [
    "Many animals share the same name - we will see if this impacts their adoption likelihood at all."
   ]
  },
  {
   "cell_type": "code",
   "execution_count": 125,
   "metadata": {},
   "outputs": [],
   "source": [
    "train['name'].fillna('Unnamed', inplace=True)"
   ]
  },
  {
   "cell_type": "code",
   "execution_count": 126,
   "metadata": {},
   "outputs": [
    {
     "data": {
      "text/plain": [
       "animalid              0\n",
       "name                  0\n",
       "datetime              0\n",
       "outcometype           0\n",
       "outcomesubtype    13611\n",
       "animaltype            0\n",
       "sexuponoutcome        0\n",
       "ageuponoutcome        0\n",
       "breed                 0\n",
       "color                 0\n",
       "dtype: int64"
      ]
     },
     "execution_count": 126,
     "metadata": {},
     "output_type": "execute_result"
    }
   ],
   "source": [
    "train.isnull().sum() #fixed name nulls"
   ]
  },
  {
   "cell_type": "code",
   "execution_count": 127,
   "metadata": {},
   "outputs": [
    {
     "data": {
      "text/plain": [
       "Partner                7816\n",
       "Foster                 1800\n",
       "SCRP                   1583\n",
       "Suffering              1000\n",
       "Aggressive              320\n",
       "Offsite                 165\n",
       "In Kennel               114\n",
       "Behavior                 86\n",
       "Rabies Risk              74\n",
       "Medical                  66\n",
       "In Foster                52\n",
       "Enroute                   8\n",
       "Court/Investigation       6\n",
       "At Vet                    4\n",
       "In Surgery                3\n",
       "Barn                      2\n",
       "Name: outcomesubtype, dtype: int64"
      ]
     },
     "execution_count": 127,
     "metadata": {},
     "output_type": "execute_result"
    }
   ],
   "source": [
    "train['outcomesubtype'].value_counts()"
   ]
  },
  {
   "cell_type": "code",
   "execution_count": 128,
   "metadata": {},
   "outputs": [
    {
     "data": {
      "text/plain": [
       "Adoption           10769\n",
       "Transfer            9406\n",
       "Return_to_owner     4785\n",
       "Euthanasia          1553\n",
       "Died                 197\n",
       "Name: outcometype, dtype: int64"
      ]
     },
     "execution_count": 128,
     "metadata": {},
     "output_type": "execute_result"
    }
   ],
   "source": [
    "train['outcometype'].value_counts()"
   ]
  },
  {
   "cell_type": "code",
   "execution_count": 129,
   "metadata": {},
   "outputs": [
    {
     "data": {
      "text/html": [
       "<div>\n",
       "<style scoped>\n",
       "    .dataframe tbody tr th:only-of-type {\n",
       "        vertical-align: middle;\n",
       "    }\n",
       "\n",
       "    .dataframe tbody tr th {\n",
       "        vertical-align: top;\n",
       "    }\n",
       "\n",
       "    .dataframe thead th {\n",
       "        text-align: right;\n",
       "    }\n",
       "</style>\n",
       "<table border=\"1\" class=\"dataframe\">\n",
       "  <thead>\n",
       "    <tr style=\"text-align: right;\">\n",
       "      <th></th>\n",
       "      <th>animalid</th>\n",
       "      <th>name</th>\n",
       "      <th>datetime</th>\n",
       "      <th>outcomesubtype</th>\n",
       "      <th>animaltype</th>\n",
       "      <th>sexuponoutcome</th>\n",
       "      <th>ageuponoutcome</th>\n",
       "      <th>breed</th>\n",
       "      <th>color</th>\n",
       "    </tr>\n",
       "    <tr>\n",
       "      <th>outcometype</th>\n",
       "      <th></th>\n",
       "      <th></th>\n",
       "      <th></th>\n",
       "      <th></th>\n",
       "      <th></th>\n",
       "      <th></th>\n",
       "      <th></th>\n",
       "      <th></th>\n",
       "      <th></th>\n",
       "    </tr>\n",
       "  </thead>\n",
       "  <tbody>\n",
       "    <tr>\n",
       "      <th>Adoption</th>\n",
       "      <td>8803</td>\n",
       "      <td>8803</td>\n",
       "      <td>8803</td>\n",
       "      <td>0</td>\n",
       "      <td>8803</td>\n",
       "      <td>8803</td>\n",
       "      <td>8803</td>\n",
       "      <td>8803</td>\n",
       "      <td>8803</td>\n",
       "    </tr>\n",
       "    <tr>\n",
       "      <th>Died</th>\n",
       "      <td>16</td>\n",
       "      <td>16</td>\n",
       "      <td>16</td>\n",
       "      <td>0</td>\n",
       "      <td>16</td>\n",
       "      <td>16</td>\n",
       "      <td>16</td>\n",
       "      <td>16</td>\n",
       "      <td>16</td>\n",
       "    </tr>\n",
       "    <tr>\n",
       "      <th>Euthanasia</th>\n",
       "      <td>1</td>\n",
       "      <td>1</td>\n",
       "      <td>1</td>\n",
       "      <td>0</td>\n",
       "      <td>1</td>\n",
       "      <td>1</td>\n",
       "      <td>1</td>\n",
       "      <td>1</td>\n",
       "      <td>1</td>\n",
       "    </tr>\n",
       "    <tr>\n",
       "      <th>Return_to_owner</th>\n",
       "      <td>4785</td>\n",
       "      <td>4785</td>\n",
       "      <td>4785</td>\n",
       "      <td>0</td>\n",
       "      <td>4785</td>\n",
       "      <td>4785</td>\n",
       "      <td>4785</td>\n",
       "      <td>4785</td>\n",
       "      <td>4785</td>\n",
       "    </tr>\n",
       "    <tr>\n",
       "      <th>Transfer</th>\n",
       "      <td>6</td>\n",
       "      <td>6</td>\n",
       "      <td>6</td>\n",
       "      <td>0</td>\n",
       "      <td>6</td>\n",
       "      <td>6</td>\n",
       "      <td>6</td>\n",
       "      <td>6</td>\n",
       "      <td>6</td>\n",
       "    </tr>\n",
       "  </tbody>\n",
       "</table>\n",
       "</div>"
      ],
      "text/plain": [
       "                 animalid  name  datetime  outcomesubtype  animaltype  \\\n",
       "outcometype                                                             \n",
       "Adoption             8803  8803      8803               0        8803   \n",
       "Died                   16    16        16               0          16   \n",
       "Euthanasia              1     1         1               0           1   \n",
       "Return_to_owner      4785  4785      4785               0        4785   \n",
       "Transfer                6     6         6               0           6   \n",
       "\n",
       "                 sexuponoutcome  ageuponoutcome  breed  color  \n",
       "outcometype                                                    \n",
       "Adoption                   8803            8803   8803   8803  \n",
       "Died                         16              16     16     16  \n",
       "Euthanasia                    1               1      1      1  \n",
       "Return_to_owner            4785            4785   4785   4785  \n",
       "Transfer                      6               6      6      6  "
      ]
     },
     "execution_count": 129,
     "metadata": {},
     "output_type": "execute_result"
    }
   ],
   "source": [
    "train[train['outcomesubtype'].isnull()].groupby('outcometype').count()"
   ]
  },
  {
   "cell_type": "markdown",
   "metadata": {},
   "source": [
    "It appears that only a fraction of null subtypes fall into the \"Died\", \"Euthanasia\", or \"Transfer\" final outcome buckets. I'm going to drop these values since they're not likely to represent a useful pattern to my model."
   ]
  },
  {
   "cell_type": "code",
   "execution_count": 130,
   "metadata": {},
   "outputs": [],
   "source": [
    "#https://www.geeksforgeeks.org/how-to-drop-rows-in-dataframe-by-conditions-on-column-values/"
   ]
  },
  {
   "cell_type": "code",
   "execution_count": 131,
   "metadata": {},
   "outputs": [],
   "source": [
    "drop_index = train[((train['outcometype']=='Euthanasia') | \n",
    "       (train['outcometype']=='Died') | \n",
    "       (train['outcometype']=='Transfer'))&\n",
    "      (train['outcomesubtype'].isnull())].index #our 23 values to drop"
   ]
  },
  {
   "cell_type": "code",
   "execution_count": 132,
   "metadata": {},
   "outputs": [],
   "source": [
    "train.drop(drop_index, inplace=True)"
   ]
  },
  {
   "cell_type": "code",
   "execution_count": 133,
   "metadata": {},
   "outputs": [
    {
     "data": {
      "text/plain": [
       "(26687, 10)"
      ]
     },
     "execution_count": 133,
     "metadata": {},
     "output_type": "execute_result"
    }
   ],
   "source": [
    "train.shape #should have 23 fewer rows"
   ]
  },
  {
   "cell_type": "code",
   "execution_count": 134,
   "metadata": {},
   "outputs": [
    {
     "data": {
      "text/html": [
       "<div>\n",
       "<style scoped>\n",
       "    .dataframe tbody tr th:only-of-type {\n",
       "        vertical-align: middle;\n",
       "    }\n",
       "\n",
       "    .dataframe tbody tr th {\n",
       "        vertical-align: top;\n",
       "    }\n",
       "\n",
       "    .dataframe thead th {\n",
       "        text-align: right;\n",
       "    }\n",
       "</style>\n",
       "<table border=\"1\" class=\"dataframe\">\n",
       "  <thead>\n",
       "    <tr style=\"text-align: right;\">\n",
       "      <th></th>\n",
       "      <th>animalid</th>\n",
       "      <th>name</th>\n",
       "      <th>datetime</th>\n",
       "      <th>outcomesubtype</th>\n",
       "      <th>animaltype</th>\n",
       "      <th>sexuponoutcome</th>\n",
       "      <th>ageuponoutcome</th>\n",
       "      <th>breed</th>\n",
       "      <th>color</th>\n",
       "    </tr>\n",
       "    <tr>\n",
       "      <th>outcometype</th>\n",
       "      <th></th>\n",
       "      <th></th>\n",
       "      <th></th>\n",
       "      <th></th>\n",
       "      <th></th>\n",
       "      <th></th>\n",
       "      <th></th>\n",
       "      <th></th>\n",
       "      <th></th>\n",
       "    </tr>\n",
       "  </thead>\n",
       "  <tbody>\n",
       "    <tr>\n",
       "      <th>Adoption</th>\n",
       "      <td>8803</td>\n",
       "      <td>8803</td>\n",
       "      <td>8803</td>\n",
       "      <td>0</td>\n",
       "      <td>8803</td>\n",
       "      <td>8803</td>\n",
       "      <td>8803</td>\n",
       "      <td>8803</td>\n",
       "      <td>8803</td>\n",
       "    </tr>\n",
       "    <tr>\n",
       "      <th>Return_to_owner</th>\n",
       "      <td>4785</td>\n",
       "      <td>4785</td>\n",
       "      <td>4785</td>\n",
       "      <td>0</td>\n",
       "      <td>4785</td>\n",
       "      <td>4785</td>\n",
       "      <td>4785</td>\n",
       "      <td>4785</td>\n",
       "      <td>4785</td>\n",
       "    </tr>\n",
       "  </tbody>\n",
       "</table>\n",
       "</div>"
      ],
      "text/plain": [
       "                 animalid  name  datetime  outcomesubtype  animaltype  \\\n",
       "outcometype                                                             \n",
       "Adoption             8803  8803      8803               0        8803   \n",
       "Return_to_owner      4785  4785      4785               0        4785   \n",
       "\n",
       "                 sexuponoutcome  ageuponoutcome  breed  color  \n",
       "outcometype                                                    \n",
       "Adoption                   8803            8803   8803   8803  \n",
       "Return_to_owner            4785            4785   4785   4785  "
      ]
     },
     "execution_count": 134,
     "metadata": {},
     "output_type": "execute_result"
    }
   ],
   "source": [
    "train[train['outcomesubtype'].isnull()].groupby('outcometype').count()"
   ]
  },
  {
   "cell_type": "markdown",
   "metadata": {},
   "source": [
    "As planned, the only null values in the outcomesubtype now correspond to either Adoption or Return_to_owner as their outcome. That will help my model make predictions. I'll rename these values."
   ]
  },
  {
   "cell_type": "code",
   "execution_count": 135,
   "metadata": {},
   "outputs": [],
   "source": [
    "train.fillna('unknown', inplace=True) #fill last null values "
   ]
  },
  {
   "cell_type": "code",
   "execution_count": 136,
   "metadata": {},
   "outputs": [
    {
     "data": {
      "text/plain": [
       "unknown                13588\n",
       "Partner                 7816\n",
       "Foster                  1800\n",
       "SCRP                    1583\n",
       "Suffering               1000\n",
       "Aggressive               320\n",
       "Offsite                  165\n",
       "In Kennel                114\n",
       "Behavior                  86\n",
       "Rabies Risk               74\n",
       "Medical                   66\n",
       "In Foster                 52\n",
       "Enroute                    8\n",
       "Court/Investigation        6\n",
       "At Vet                     4\n",
       "In Surgery                 3\n",
       "Barn                       2\n",
       "Name: outcomesubtype, dtype: int64"
      ]
     },
     "execution_count": 136,
     "metadata": {},
     "output_type": "execute_result"
    }
   ],
   "source": [
    "train['outcomesubtype'].value_counts()"
   ]
  },
  {
   "cell_type": "code",
   "execution_count": 137,
   "metadata": {},
   "outputs": [
    {
     "data": {
      "text/plain": [
       "animalid          0\n",
       "name              0\n",
       "datetime          0\n",
       "outcometype       0\n",
       "outcomesubtype    0\n",
       "animaltype        0\n",
       "sexuponoutcome    0\n",
       "ageuponoutcome    0\n",
       "breed             0\n",
       "color             0\n",
       "dtype: int64"
      ]
     },
     "execution_count": 137,
     "metadata": {},
     "output_type": "execute_result"
    }
   ],
   "source": [
    "train.isnull().sum() #perfect"
   ]
  },
  {
   "cell_type": "code",
   "execution_count": 138,
   "metadata": {},
   "outputs": [
    {
     "data": {
      "text/html": [
       "<div>\n",
       "<style scoped>\n",
       "    .dataframe tbody tr th:only-of-type {\n",
       "        vertical-align: middle;\n",
       "    }\n",
       "\n",
       "    .dataframe tbody tr th {\n",
       "        vertical-align: top;\n",
       "    }\n",
       "\n",
       "    .dataframe thead th {\n",
       "        text-align: right;\n",
       "    }\n",
       "</style>\n",
       "<table border=\"1\" class=\"dataframe\">\n",
       "  <thead>\n",
       "    <tr style=\"text-align: right;\">\n",
       "      <th></th>\n",
       "      <th>animalid</th>\n",
       "      <th>name</th>\n",
       "      <th>datetime</th>\n",
       "      <th>outcometype</th>\n",
       "      <th>outcomesubtype</th>\n",
       "      <th>animaltype</th>\n",
       "      <th>sexuponoutcome</th>\n",
       "      <th>ageuponoutcome</th>\n",
       "      <th>breed</th>\n",
       "      <th>color</th>\n",
       "    </tr>\n",
       "  </thead>\n",
       "  <tbody>\n",
       "    <tr>\n",
       "      <th>count</th>\n",
       "      <td>26687</td>\n",
       "      <td>26687</td>\n",
       "      <td>26687</td>\n",
       "      <td>26687</td>\n",
       "      <td>26687</td>\n",
       "      <td>26687</td>\n",
       "      <td>26687</td>\n",
       "      <td>26687</td>\n",
       "      <td>26687</td>\n",
       "      <td>26687</td>\n",
       "    </tr>\n",
       "    <tr>\n",
       "      <th>unique</th>\n",
       "      <td>26687</td>\n",
       "      <td>6372</td>\n",
       "      <td>22886</td>\n",
       "      <td>5</td>\n",
       "      <td>17</td>\n",
       "      <td>2</td>\n",
       "      <td>5</td>\n",
       "      <td>44</td>\n",
       "      <td>1380</td>\n",
       "      <td>366</td>\n",
       "    </tr>\n",
       "    <tr>\n",
       "      <th>top</th>\n",
       "      <td>A711332</td>\n",
       "      <td>Unnamed</td>\n",
       "      <td>2015-08-11 00:00:00</td>\n",
       "      <td>Adoption</td>\n",
       "      <td>unknown</td>\n",
       "      <td>Dog</td>\n",
       "      <td>Neutered Male</td>\n",
       "      <td>1 year</td>\n",
       "      <td>Domestic Shorthair Mix</td>\n",
       "      <td>Black/White</td>\n",
       "    </tr>\n",
       "    <tr>\n",
       "      <th>freq</th>\n",
       "      <td>1</td>\n",
       "      <td>7659</td>\n",
       "      <td>19</td>\n",
       "      <td>10769</td>\n",
       "      <td>13588</td>\n",
       "      <td>15581</td>\n",
       "      <td>9776</td>\n",
       "      <td>3964</td>\n",
       "      <td>8784</td>\n",
       "      <td>2824</td>\n",
       "    </tr>\n",
       "  </tbody>\n",
       "</table>\n",
       "</div>"
      ],
      "text/plain": [
       "       animalid     name             datetime outcometype outcomesubtype  \\\n",
       "count     26687    26687                26687       26687          26687   \n",
       "unique    26687     6372                22886           5             17   \n",
       "top     A711332  Unnamed  2015-08-11 00:00:00    Adoption        unknown   \n",
       "freq          1     7659                   19       10769          13588   \n",
       "\n",
       "       animaltype sexuponoutcome ageuponoutcome                   breed  \\\n",
       "count       26687          26687          26687                   26687   \n",
       "unique          2              5             44                    1380   \n",
       "top           Dog  Neutered Male         1 year  Domestic Shorthair Mix   \n",
       "freq        15581           9776           3964                    8784   \n",
       "\n",
       "              color  \n",
       "count         26687  \n",
       "unique          366  \n",
       "top     Black/White  \n",
       "freq           2824  "
      ]
     },
     "execution_count": 138,
     "metadata": {},
     "output_type": "execute_result"
    }
   ],
   "source": [
    "train.describe()"
   ]
  },
  {
   "cell_type": "markdown",
   "metadata": {},
   "source": [
    "A couple things to note here:  \n",
    "- all the animal ID's are unique so no worry about duplicate animals being counted twice or more\n",
    "- there are only 6,372 unique names\n",
    "- Adoption is the most common outcome at 10,769 / 26,687 or ~40% of all outcomes\n",
    "- Dogs are by far the most common animal at 15,581 / 26,687 or ~58% of the sample\n",
    "- Neutered Male is the most common sex at 9,776 / 26,687 or ~37% of the training set\n",
    "- the most common age is 1 year but that's only 3,964 / 26,687 or ~15% so some disparity there\n",
    "- color also seems pretty diverse with the most common one (Black/White) only appearing a little over 10% of the time"
   ]
  },
  {
   "cell_type": "code",
   "execution_count": 139,
   "metadata": {},
   "outputs": [
    {
     "data": {
      "text/plain": [
       "animalid          object\n",
       "name              object\n",
       "datetime          object\n",
       "outcometype       object\n",
       "outcomesubtype    object\n",
       "animaltype        object\n",
       "sexuponoutcome    object\n",
       "ageuponoutcome    object\n",
       "breed             object\n",
       "color             object\n",
       "dtype: object"
      ]
     },
     "execution_count": 139,
     "metadata": {},
     "output_type": "execute_result"
    }
   ],
   "source": [
    "train.dtypes"
   ]
  },
  {
   "cell_type": "markdown",
   "metadata": {},
   "source": [
    "- the datetime column should be converted to date time\n",
    "- age should be an int or float\n",
    "- most other values (sex, breed, color) will be dummified during modeling"
   ]
  },
  {
   "cell_type": "code",
   "execution_count": 140,
   "metadata": {},
   "outputs": [
    {
     "data": {
      "text/plain": [
       "0        2014-02-12 18:22:00\n",
       "1        2013-10-13 12:44:00\n",
       "2        2015-01-31 12:28:00\n",
       "3        2014-07-11 19:09:00\n",
       "4        2013-11-15 12:52:00\n",
       "                ...         \n",
       "26724    2015-05-14 11:56:00\n",
       "26725    2016-01-20 18:59:00\n",
       "26726    2015-03-09 13:33:00\n",
       "26727    2014-04-27 12:22:00\n",
       "26728    2015-07-02 09:00:00\n",
       "Name: datetime, Length: 26687, dtype: object"
      ]
     },
     "execution_count": 140,
     "metadata": {},
     "output_type": "execute_result"
    }
   ],
   "source": [
    "train['datetime']"
   ]
  },
  {
   "cell_type": "code",
   "execution_count": 141,
   "metadata": {},
   "outputs": [],
   "source": [
    "#https://pandas.pydata.org/pandas-docs/stable/reference/api/pandas.to_datetime.html\n",
    "train['datetime'] = pd.to_datetime(train['datetime'])"
   ]
  },
  {
   "cell_type": "code",
   "execution_count": 142,
   "metadata": {},
   "outputs": [
    {
     "data": {
      "text/plain": [
       "0       2014-02-12 18:22:00\n",
       "1       2013-10-13 12:44:00\n",
       "2       2015-01-31 12:28:00\n",
       "3       2014-07-11 19:09:00\n",
       "4       2013-11-15 12:52:00\n",
       "                ...        \n",
       "26724   2015-05-14 11:56:00\n",
       "26725   2016-01-20 18:59:00\n",
       "26726   2015-03-09 13:33:00\n",
       "26727   2014-04-27 12:22:00\n",
       "26728   2015-07-02 09:00:00\n",
       "Name: datetime, Length: 26687, dtype: datetime64[ns]"
      ]
     },
     "execution_count": 142,
     "metadata": {},
     "output_type": "execute_result"
    }
   ],
   "source": [
    "train['datetime']"
   ]
  },
  {
   "cell_type": "code",
   "execution_count": 143,
   "metadata": {},
   "outputs": [
    {
     "data": {
      "text/plain": [
       "1 year       3964\n",
       "2 years      3740\n",
       "2 months     3395\n",
       "3 years      1821\n",
       "1 month      1280\n",
       "3 months     1276\n",
       "4 years      1070\n",
       "5 years       990\n",
       "4 months      888\n",
       "6 years       670\n",
       "3 weeks       659\n",
       "5 months      652\n",
       "6 months      588\n",
       "8 years       535\n",
       "7 years       529\n",
       "2 weeks       528\n",
       "10 months     456\n",
       "10 years      446\n",
       "8 months      402\n",
       "4 weeks       333\n",
       "7 months      288\n",
       "9 years       288\n",
       "12 years      234\n",
       "9 months      224\n",
       "1 weeks       171\n",
       "11 months     166\n",
       "1 week        144\n",
       "13 years      143\n",
       "11 years      126\n",
       "3 days        109\n",
       "2 days         99\n",
       "14 years       97\n",
       "15 years       85\n",
       "1 day          66\n",
       "4 days         50\n",
       "6 days         50\n",
       "16 years       36\n",
       "5 days         24\n",
       "0 years        22\n",
       "17 years       17\n",
       "5 weeks        11\n",
       "18 years       10\n",
       "19 years        3\n",
       "20 years        2\n",
       "Name: ageuponoutcome, dtype: int64"
      ]
     },
     "execution_count": 143,
     "metadata": {},
     "output_type": "execute_result"
    }
   ],
   "source": [
    "train['ageuponoutcome'].value_counts()"
   ]
  },
  {
   "cell_type": "markdown",
   "metadata": {},
   "source": [
    "This is a problem because the ages are in different units (days/weeks/months/years). It will make the most sense to put them all in the smallest unit (days) because I won't have to make a bizarre fraction out of any less than a week old. Each month will be considered a 30 day period, each week a 7 day period, and each year 365 days."
   ]
  },
  {
   "cell_type": "code",
   "execution_count": 144,
   "metadata": {},
   "outputs": [],
   "source": [
    "train['ageuponoutcome'] = train['ageuponoutcome'].map({\n",
    "    '1 year' : 365,\n",
    "    '2 years': 730,\n",
    "    '2 months': 60,\n",
    "    '3 years': 1095,\n",
    "    '1 month': 30,\n",
    "    '3 months': 90,\n",
    "    '4 years': 1460,\n",
    "    '5 years': 1825,\n",
    "    '4 months': 120,\n",
    "    '6 years': 2190,\n",
    "    '3 weeks': 21,\n",
    "    '5 months': 150,\n",
    "    '6 months': 180,\n",
    "    '8 years': 2920,\n",
    "    '7 years': 2555,\n",
    "    '2 weeks': 14,\n",
    "    '10 months': 300,\n",
    "    '10 years': 3650,\n",
    "    '8 months': 240,\n",
    "    '4 weeks': 28,\n",
    "    '7 months': 210,\n",
    "    '9 years': 270,\n",
    "    '12 years': 4380,\n",
    "    '9 months': 270,\n",
    "    '1 weeks': 7,\n",
    "    '11 months': 330,\n",
    "    '1 week': 7,\n",
    "    '13 years': 4745,\n",
    "    '11 years': 4015,\n",
    "    '3 days': 3,\n",
    "    '2 days': 2,\n",
    "    '14 years': 5110,\n",
    "    '15 years': 5475,\n",
    "    '1 day': 1,\n",
    "    '4 days': 4,\n",
    "    '6 days': 6,\n",
    "    '16 years': 5840,\n",
    "    '5 days': 5,\n",
    "    '0 years': 0, #hard to know what this was supposed to mean, only 22 of them so making 0 for simplicity\n",
    "    '17 years': 6205,\n",
    "    '5 weeks': 35,\n",
    "    '18 years': 6570,\n",
    "    '19 years': 6935,\n",
    "    '20 years': 7300    \n",
    "})"
   ]
  },
  {
   "cell_type": "code",
   "execution_count": 145,
   "metadata": {},
   "outputs": [
    {
     "data": {
      "text/plain": [
       "365     3964\n",
       "730     3740\n",
       "60      3395\n",
       "1095    1821\n",
       "30      1280\n",
       "90      1276\n",
       "1460    1070\n",
       "1825     990\n",
       "120      888\n",
       "2190     670\n",
       "21       659\n",
       "150      652\n",
       "180      588\n",
       "2920     535\n",
       "2555     529\n",
       "14       528\n",
       "270      512\n",
       "300      456\n",
       "3650     446\n",
       "240      402\n",
       "28       333\n",
       "7        315\n",
       "210      288\n",
       "4380     234\n",
       "330      166\n",
       "4745     143\n",
       "4015     126\n",
       "3        109\n",
       "2         99\n",
       "5110      97\n",
       "5475      85\n",
       "1         66\n",
       "4         50\n",
       "6         50\n",
       "5840      36\n",
       "5         24\n",
       "0         22\n",
       "6205      17\n",
       "35        11\n",
       "6570      10\n",
       "6935       3\n",
       "7300       2\n",
       "Name: ageuponoutcome, dtype: int64"
      ]
     },
     "execution_count": 145,
     "metadata": {},
     "output_type": "execute_result"
    }
   ],
   "source": [
    "train['ageuponoutcome'].value_counts() #all integers, all in day units"
   ]
  },
  {
   "cell_type": "code",
   "execution_count": 146,
   "metadata": {},
   "outputs": [],
   "source": [
    "train_mean = train['ageuponoutcome'].mean()\n",
    "train_med = train['ageuponoutcome'].median()"
   ]
  },
  {
   "cell_type": "code",
   "execution_count": 152,
   "metadata": {},
   "outputs": [
    {
     "data": {
      "image/png": "[encoded data removed]",
      "text/plain": [
       "<Figure size 864x360 with 1 Axes>"
      ]
     },
     "metadata": {
      "needs_background": "light"
     },
     "output_type": "display_data"
    }
   ],
   "source": [
    "#https://moonbooks.org/Articles/How-to-plot-a-simple-vertical-line-on-a-matplotlib-figure-/\n",
    "#https://stackoverflow.com/questions/45148704/how-to-hide-axes-and-gridlines-in-matplotlib-python\n",
    "plt.figure(figsize=(12,5))\n",
    "plt.title('Distribution of Animal Ages', size=25)\n",
    "plt.xlabel('Days Old', size=18)\n",
    "plt.axvline(x=train_med, color='orange', label=f'Median Age: {round(train_med)}', linewidth=4)\n",
    "plt.axvline(x=train_mean, color='magenta', label = f'Mean Age: {round(train_mean)}', linewidth=4)\n",
    "plt.legend(fontsize='12')\n",
    "train['ageuponoutcome'].hist(color='black')\n",
    "plt.grid(b=None);\n",
    "#plt.savefig('./visualizations/ages.png', dpi=200, bbox_fit='tight');"
   ]
  },
  {
   "cell_type": "markdown",
   "metadata": {},
   "source": [
    "We can clearly see that most of the animals are under 1,000 days old with a tail that gives us a right-skew overall. That's why our mean is being pulled up to 762 days (~ 2 years) but the median is only 365 days (1 year)."
   ]
  },
  {
   "cell_type": "code",
   "execution_count": 148,
   "metadata": {},
   "outputs": [
    {
     "data": {
      "text/plain": [
       "animalid                  object\n",
       "name                      object\n",
       "datetime          datetime64[ns]\n",
       "outcometype               object\n",
       "outcomesubtype            object\n",
       "animaltype                object\n",
       "sexuponoutcome            object\n",
       "ageuponoutcome             int64\n",
       "breed                     object\n",
       "color                     object\n",
       "dtype: object"
      ]
     },
     "execution_count": 148,
     "metadata": {},
     "output_type": "execute_result"
    }
   ],
   "source": [
    "train.dtypes #one last check on data types"
   ]
  },
  {
   "cell_type": "code",
   "execution_count": 149,
   "metadata": {},
   "outputs": [],
   "source": [
    "#train.to_csv('clean_train.csv', index=False) #save clean data"
   ]
  },
  {
   "cell_type": "code",
   "execution_count": 153,
   "metadata": {},
   "outputs": [
    {
     "name": "stdout",
     "output_type": "stream",
     "text": [
      "|                 |   outcometype |\n",
      "|:----------------|--------------:|\n",
      "| Adoption        |    0.40353    |\n",
      "| Transfer        |    0.352231   |\n",
      "| Return_to_owner |    0.179301   |\n",
      "| Euthanasia      |    0.0581557  |\n",
      "| Died            |    0.00678233 |\n"
     ]
    }
   ],
   "source": [
    "print(train['outcometype'].value_counts(normalize=True).to_markdown())"
   ]
  },
  {
   "cell_type": "code",
   "execution_count": null,
   "metadata": {},
   "outputs": [],
   "source": []
  }
 ],
 "metadata": {
  "kernelspec": {
   "display_name": "Python 3",
   "language": "python",
   "name": "python3"
  },
  "language_info": {
   "codemirror_mode": {
    "name": "ipython",
    "version": 3
   },
   "file_extension": ".py",
   "mimetype": "text/x-python",
   "name": "python",
   "nbconvert_exporter": "python",
   "pygments_lexer": "ipython3",
   "version": "3.8.3"
  }
 },
 "nbformat": 4,
 "nbformat_minor": 4
}
